{
  "nbformat": 4,
  "nbformat_minor": 0,
  "metadata": {
    "colab": {
      "provenance": []
    },
    "kernelspec": {
      "name": "python3",
      "display_name": "Python 3"
    },
    "language_info": {
      "name": "python"
    }
  },
  "cells": [
    {
      "cell_type": "code",
      "execution_count": null,
      "metadata": {
        "id": "Xa_TmcH8NfHX"
      },
      "outputs": [],
      "source": [
        "import tensorflow as tf\n",
        "from tensorflow.keras import datasets, layers, models\n",
        "import matplotlib.pyplot as plt\n",
        "import numpy as np"
      ]
    },
    {
      "cell_type": "markdown",
      "source": [
        "Loading the Dataset"
      ],
      "metadata": {
        "id": "lZ8_bDJEN9_8"
      }
    },
    {
      "cell_type": "code",
      "source": [
        "(X_train, y_train), (X_test,y_test) = datasets.cifar10.load_data()\n",
        "X_train.shape"
      ],
      "metadata": {
        "colab": {
          "base_uri": "https://localhost:8080/"
        },
        "id": "kcVnpfHoNtaX",
        "outputId": "e1758270-6106-4100-93b3-48a7b732988c"
      },
      "execution_count": null,
      "outputs": [
        {
          "output_type": "stream",
          "name": "stdout",
          "text": [
            "Downloading data from https://www.cs.toronto.edu/~kriz/cifar-10-python.tar.gz\n",
            "170498071/170498071 [==============================] - 3s 0us/step\n"
          ]
        },
        {
          "output_type": "execute_result",
          "data": {
            "text/plain": [
              "(50000, 32, 32, 3)"
            ]
          },
          "metadata": {},
          "execution_count": 4
        }
      ]
    },
    {
      "cell_type": "code",
      "source": [
        "X_test.shape "
      ],
      "metadata": {
        "colab": {
          "base_uri": "https://localhost:8080/"
        },
        "id": "b-WTrUWZOCGq",
        "outputId": "d3f5f3d1-47b1-42fc-cbcf-5a213057c357"
      },
      "execution_count": null,
      "outputs": [
        {
          "output_type": "execute_result",
          "data": {
            "text/plain": [
              "(10000, 32, 32, 3)"
            ]
          },
          "metadata": {},
          "execution_count": 6
        }
      ]
    },
    {
      "cell_type": "code",
      "source": [
        "y_train.shape"
      ],
      "metadata": {
        "colab": {
          "base_uri": "https://localhost:8080/"
        },
        "id": "c70FBXpwO1w7",
        "outputId": "49d90dfa-e668-423a-9001-8e9a143506b8"
      },
      "execution_count": null,
      "outputs": [
        {
          "output_type": "execute_result",
          "data": {
            "text/plain": [
              "(50000, 1)"
            ]
          },
          "metadata": {},
          "execution_count": 7
        }
      ]
    },
    {
      "cell_type": "code",
      "source": [
        "y_train = y_train.reshape(-1,)\n",
        "y_test = y_test.reshape(-1,)"
      ],
      "metadata": {
        "id": "zPs6m7weTssr"
      },
      "execution_count": null,
      "outputs": []
    },
    {
      "cell_type": "markdown",
      "source": [
        "We have 10 classes here"
      ],
      "metadata": {
        "id": "mchFtBKaUJZA"
      }
    },
    {
      "cell_type": "code",
      "source": [
        "classes = [\"airplane\",\"automobile\",\"bird\",\"cat\",\"deer\",\"dog\",\"frog\",\"horse\",\"ship\",\"truck\"]"
      ],
      "metadata": {
        "id": "iOhjLovIT9RC"
      },
      "execution_count": null,
      "outputs": []
    },
    {
      "cell_type": "markdown",
      "source": [
        "Let's plot some images to see what they are"
      ],
      "metadata": {
        "id": "fPn__8XfUSBp"
      }
    },
    {
      "cell_type": "code",
      "source": [
        "from matplotlib import pyplot as plt\n",
        "plt.imshow(X_train[2], interpolation='nearest')\n",
        "plt.show()"
      ],
      "metadata": {
        "colab": {
          "base_uri": "https://localhost:8080/",
          "height": 266
        },
        "id": "RLy4i1w9USpt",
        "outputId": "58b07e88-3cc8-44d2-8dac-a2f15c9d9bad"
      },
      "execution_count": null,
      "outputs": [
        {
          "output_type": "display_data",
          "data": {
            "text/plain": [
              "<Figure size 432x288 with 1 Axes>"
            ],
            "image/png": "[encoded data removed]"
          },
          "metadata": {
            "needs_background": "light"
          }
        }
      ]
    },
    {
      "cell_type": "markdown",
      "source": [
        "Normalisation of Dataset"
      ],
      "metadata": {
        "id": "Lzhvy7TiVWd0"
      }
    },
    {
      "cell_type": "code",
      "source": [
        "X_train = X_train / 255.0\n",
        "X_test = X_test / 255.0"
      ],
      "metadata": {
        "id": "-YhTnOFjUcHk"
      },
      "execution_count": null,
      "outputs": []
    },
    {
      "cell_type": "markdown",
      "source": [
        "Build simple artificial neural network for image classification"
      ],
      "metadata": {
        "id": "t3WAR9d1VeOy"
      }
    },
    {
      "cell_type": "code",
      "source": [
        "ann = models.Sequential([\n",
        "        layers.Flatten(input_shape=(32,32,3)),\n",
        "        layers.Dense(3000, activation='relu'),\n",
        "        layers.Dense(1000, activation='relu'),\n",
        "        layers.Dense(10, activation='softmax')    \n",
        "    ])\n",
        "\n",
        "ann.compile(optimizer='SGD',\n",
        "              loss='sparse_categorical_crossentropy',\n",
        "              metrics=['accuracy'])\n",
        "\n",
        "ann.fit(X_train, y_train, epochs=5)"
      ],
      "metadata": {
        "colab": {
          "base_uri": "https://localhost:8080/"
        },
        "id": "xbSzkJjtVbKI",
        "outputId": "b30b98a6-6535-4e21-deaa-1227819f3fc7"
      },
      "execution_count": null,
      "outputs": [
        {
          "output_type": "stream",
          "name": "stdout",
          "text": [
            "Epoch 1/5\n",
            "1563/1563 [==============================] - 125s 80ms/step - loss: 1.8156 - accuracy: 0.3536\n",
            "Epoch 2/5\n",
            "1563/1563 [==============================] - 126s 80ms/step - loss: 1.6252 - accuracy: 0.4263\n",
            "Epoch 3/5\n",
            "1563/1563 [==============================] - 117s 75ms/step - loss: 1.5427 - accuracy: 0.4563\n",
            "Epoch 4/5\n",
            "1563/1563 [==============================] - 118s 75ms/step - loss: 1.4810 - accuracy: 0.4795\n",
            "Epoch 5/5\n",
            "1563/1563 [==============================] - 118s 76ms/step - loss: 1.4313 - accuracy: 0.4971\n"
          ]
        },
        {
          "output_type": "execute_result",
          "data": {
            "text/plain": [
              "<keras.callbacks.History at 0x7f6aa9473730>"
            ]
          },
          "metadata": {},
          "execution_count": 19
        }
      ]
    },
    {
      "cell_type": "markdown",
      "source": [
        "CNN Model for Image Classification"
      ],
      "metadata": {
        "id": "C8z4SdgnVsN2"
      }
    },
    {
      "cell_type": "code",
      "source": [
        "cnn = models.Sequential([\n",
        "    layers.Conv2D(filters=32, kernel_size=(3, 3), activation='relu', input_shape=(32, 32, 3)),\n",
        "    layers.MaxPooling2D((2, 2)),\n",
        "    \n",
        "    layers.Conv2D(filters=64, kernel_size=(3, 3), activation='relu'),\n",
        "    layers.MaxPooling2D((2, 2)),\n",
        "    \n",
        "    layers.Flatten(),\n",
        "    layers.Dense(64, activation='relu'),\n",
        "    layers.Dense(10, activation='softmax')\n",
        "])"
      ],
      "metadata": {
        "id": "UJ0bqmoyVk2L"
      },
      "execution_count": null,
      "outputs": []
    },
    {
      "cell_type": "code",
      "source": [
        "cnn.compile(optimizer='adam',\n",
        "              loss='sparse_categorical_crossentropy',\n",
        "              metrics=['accuracy'])"
      ],
      "metadata": {
        "id": "umAHhFLRV4Ks"
      },
      "execution_count": null,
      "outputs": []
    },
    {
      "cell_type": "code",
      "source": [
        "cnn.fit(X_train, y_train, epochs=10)"
      ],
      "metadata": {
        "colab": {
          "base_uri": "https://localhost:8080/"
        },
        "id": "6TiO3qW0WAua",
        "outputId": "f48aa2e0-b9c4-4a9a-e6ad-c285091e0871"
      },
      "execution_count": null,
      "outputs": [
        {
          "output_type": "stream",
          "name": "stdout",
          "text": [
            "Epoch 1/10\n",
            "1563/1563 [==============================] - 78s 49ms/step - loss: 1.5218 - accuracy: 0.4490\n",
            "Epoch 2/10\n",
            "1563/1563 [==============================] - 70s 44ms/step - loss: 1.1570 - accuracy: 0.5938\n",
            "Epoch 3/10\n",
            "1563/1563 [==============================] - 68s 44ms/step - loss: 1.0195 - accuracy: 0.6448\n",
            "Epoch 4/10\n",
            "1563/1563 [==============================] - 68s 43ms/step - loss: 0.9282 - accuracy: 0.6797\n",
            "Epoch 5/10\n",
            "1563/1563 [==============================] - 66s 42ms/step - loss: 0.8643 - accuracy: 0.7015\n",
            "Epoch 6/10\n",
            "1563/1563 [==============================] - 68s 43ms/step - loss: 0.8129 - accuracy: 0.7188\n",
            "Epoch 7/10\n",
            "1563/1563 [==============================] - 67s 43ms/step - loss: 0.7682 - accuracy: 0.7327\n",
            "Epoch 8/10\n",
            "1563/1563 [==============================] - 68s 44ms/step - loss: 0.7293 - accuracy: 0.7463\n",
            "Epoch 9/10\n",
            "1563/1563 [==============================] - 67s 43ms/step - loss: 0.6922 - accuracy: 0.7584\n",
            "Epoch 10/10\n",
            "1563/1563 [==============================] - 67s 43ms/step - loss: 0.6605 - accuracy: 0.7713\n"
          ]
        },
        {
          "output_type": "execute_result",
          "data": {
            "text/plain": [
              "<keras.callbacks.History at 0x7f6aa93dcd30>"
            ]
          },
          "metadata": {},
          "execution_count": 23
        }
      ]
    },
    {
      "cell_type": "markdown",
      "source": [
        "Making predictions on test data"
      ],
      "metadata": {
        "id": "bgK0ZQZgWLFA"
      }
    },
    {
      "cell_type": "code",
      "source": [
        "cnn.evaluate(X_test,y_test)"
      ],
      "metadata": {
        "colab": {
          "base_uri": "https://localhost:8080/"
        },
        "id": "1InnS-XPWOLc",
        "outputId": "f5012d20-c74b-4706-9a24-d7d869888d59"
      },
      "execution_count": null,
      "outputs": [
        {
          "output_type": "stream",
          "name": "stdout",
          "text": [
            "313/313 [==============================] - 5s 14ms/step - loss: 0.9179 - accuracy: 0.6898\n"
          ]
        },
        {
          "output_type": "execute_result",
          "data": {
            "text/plain": [
              "[0.917930543422699, 0.6898000240325928]"
            ]
          },
          "metadata": {},
          "execution_count": 24
        }
      ]
    },
    {
      "cell_type": "markdown",
      "source": [
        "Some Visual Inspection on the predictions"
      ],
      "metadata": {
        "id": "sixqREsQYhc3"
      }
    },
    {
      "cell_type": "code",
      "source": [
        "y_pred = cnn.predict(X_test)\n",
        "y_pred[0:10]"
      ],
      "metadata": {
        "colab": {
          "base_uri": "https://localhost:8080/"
        },
        "id": "FWpoPpMwWQYy",
        "outputId": "de5df348-4667-4d54-9442-0d05cfd464f2"
      },
      "execution_count": null,
      "outputs": [
        {
          "output_type": "stream",
          "name": "stdout",
          "text": [
            "313/313 [==============================] - 6s 18ms/step\n"
          ]
        },
        {
          "output_type": "execute_result",
          "data": {
            "text/plain": [
              "array([[2.02041148e-04, 7.69128201e-06, 6.77503820e-04, 9.00211513e-01,\n",
              "        1.79972849e-04, 2.59589273e-02, 5.77067956e-03, 4.66896599e-05,\n",
              "        6.69353381e-02, 9.55495398e-06],\n",
              "       [1.92199857e-03, 9.99992713e-04, 2.02133779e-05, 6.14046655e-07,\n",
              "        2.12477880e-06, 5.34503570e-08, 2.69382152e-08, 6.24823201e-07,\n",
              "        9.97042298e-01, 1.19504848e-05],\n",
              "       [3.80599424e-02, 2.83194967e-02, 4.37781971e-04, 1.64003391e-03,\n",
              "        1.54934925e-04, 9.23072657e-05, 6.46828907e-04, 7.67844555e-04,\n",
              "        9.25728023e-01, 4.15283442e-03],\n",
              "       [8.16041410e-01, 3.92184267e-03, 8.46246351e-03, 6.33244030e-03,\n",
              "        1.16439089e-02, 9.84301805e-05, 1.43151102e-03, 1.85092515e-03,\n",
              "        1.49747521e-01, 4.69542487e-04],\n",
              "       [3.48951180e-05, 1.13774062e-04, 1.10621676e-02, 2.45659668e-02,\n",
              "        6.40371740e-01, 7.33315363e-04, 3.22980225e-01, 5.59950131e-05,\n",
              "        7.63496209e-05, 5.50642289e-06],\n",
              "       [1.22044329e-03, 2.16077184e-04, 1.76293552e-02, 4.34754118e-02,\n",
              "        1.50296520e-02, 2.59374939e-02, 8.86624336e-01, 9.61624272e-03,\n",
              "        1.49175685e-04, 1.01826234e-04],\n",
              "       [1.85897108e-04, 8.80210280e-01, 4.17268438e-06, 3.50363756e-04,\n",
              "        5.84255167e-06, 1.85825862e-04, 1.88507535e-03, 1.14841177e-05,\n",
              "        2.40564495e-05, 1.17137119e-01],\n",
              "       [1.28462343e-02, 2.06554472e-03, 8.31889585e-02, 2.61904690e-02,\n",
              "        1.46916792e-01, 2.54838355e-03, 6.60525322e-01, 3.15080136e-02,\n",
              "        3.15068364e-02, 2.70339125e-03],\n",
              "       [4.61990293e-03, 2.68470121e-05, 2.37174958e-01, 5.20371974e-01,\n",
              "        1.41407713e-01, 4.49510887e-02, 2.72532571e-02, 2.39223223e-02,\n",
              "        9.46542714e-05, 1.77219335e-04],\n",
              "       [6.57714554e-04, 9.70794976e-01, 9.17005236e-04, 9.96019808e-05,\n",
              "        3.13266623e-03, 4.80880881e-05, 7.75995897e-04, 1.61436928e-05,\n",
              "        2.11348222e-03, 2.14442797e-02]], dtype=float32)"
            ]
          },
          "metadata": {},
          "execution_count": 34
        }
      ]
    },
    {
      "cell_type": "code",
      "source": [
        "y_classes = [np.argmax(element) for element in y_pred]\n",
        "y_classes[0:10]"
      ],
      "metadata": {
        "colab": {
          "base_uri": "https://localhost:8080/"
        },
        "id": "pi-3VVMpYYhD",
        "outputId": "0710c86d-ae1a-4a09-cc51-145b222a908c"
      },
      "execution_count": null,
      "outputs": [
        {
          "output_type": "execute_result",
          "data": {
            "text/plain": [
              "[3, 8, 8, 0, 4, 6, 1, 6, 3, 1]"
            ]
          },
          "metadata": {},
          "execution_count": 35
        }
      ]
    },
    {
      "cell_type": "code",
      "source": [
        "y_test[0:10]"
      ],
      "metadata": {
        "colab": {
          "base_uri": "https://localhost:8080/"
        },
        "id": "OeC7blR0Yaz1",
        "outputId": "481d7d39-24a5-41e1-c138-e82fc5983414"
      },
      "execution_count": null,
      "outputs": [
        {
          "output_type": "execute_result",
          "data": {
            "text/plain": [
              "array([3, 8, 8, 0, 6, 6, 1, 6, 3, 1], dtype=uint8)"
            ]
          },
          "metadata": {},
          "execution_count": 36
        }
      ]
    },
    {
      "cell_type": "code",
      "source": [
        "y"
      ],
      "metadata": {
        "id": "BaEYhBqacNT3"
      },
      "execution_count": null,
      "outputs": []
    },
    {
      "cell_type": "code",
      "source": [
        "from matplotlib import pyplot as plt\n",
        "plt.imshow(X_test[1], interpolation='nearest')\n",
        "plt.show()"
      ],
      "metadata": {
        "colab": {
          "base_uri": "https://localhost:8080/",
          "height": 266
        },
        "id": "RFOmHmuAY9ge",
        "outputId": "286c3367-224a-4dc8-a405-45c367a4d297"
      },
      "execution_count": null,
      "outputs": [
        {
          "output_type": "display_data",
          "data": {
            "text/plain": [
              "<Figure size 432x288 with 1 Axes>"
            ],
            "image/png": "[encoded data removed]"
          },
          "metadata": {
            "needs_background": "light"
          }
        }
      ]
    },
    {
      "cell_type": "code",
      "source": [],
      "metadata": {
        "id": "YVFFWpaQb5Fp"
      },
      "execution_count": null,
      "outputs": []
    }
  ]
}